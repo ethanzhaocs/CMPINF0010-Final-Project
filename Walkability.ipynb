{
 "cells": [
  {
   "cell_type": "markdown",
   "metadata": {},
   "source": [
    "# Sidewalk to Street \"Walkability\" Ratio"
   ]
  },
  {
   "cell_type": "markdown",
   "metadata": {},
   "source": [
    "For the analysis of the best Pittsburgh neighborhood by most accessible transportation, one of the datasets we chose to analyze was the sidewalk to street \"walkability\" ratio. This was chosen in the case that someone would want to travel on foot in a given location as their means of transportation. A ratio of 1 means that there is equal length of sidewalk to street ratio, and a ratio of 2 means that there is double the length of sidewalk compared to street. "
   ]
  },
  {
   "cell_type": "code",
   "execution_count": 5,
   "metadata": {},
   "outputs": [],
   "source": [
    "import pandas as pd\n",
    "import geopandas"
   ]
  },
  {
   "cell_type": "code",
   "execution_count": 6,
   "metadata": {},
   "outputs": [
    {
     "data": {
      "text/html": [
       "<div>\n",
       "<style scoped>\n",
       "    .dataframe tbody tr th:only-of-type {\n",
       "        vertical-align: middle;\n",
       "    }\n",
       "\n",
       "    .dataframe tbody tr th {\n",
       "        vertical-align: top;\n",
       "    }\n",
       "\n",
       "    .dataframe thead th {\n",
       "        text-align: right;\n",
       "    }\n",
       "</style>\n",
       "<table border=\"1\" class=\"dataframe\">\n",
       "  <thead>\n",
       "    <tr style=\"text-align: right;\">\n",
       "      <th></th>\n",
       "      <th>hood</th>\n",
       "      <th>hood_no</th>\n",
       "      <th>geoid10</th>\n",
       "    </tr>\n",
       "  </thead>\n",
       "  <tbody>\n",
       "    <tr>\n",
       "      <th>0</th>\n",
       "      <td>Chateau</td>\n",
       "      <td>22</td>\n",
       "      <td>420039806001</td>\n",
       "    </tr>\n",
       "    <tr>\n",
       "      <th>1</th>\n",
       "      <td>Summer Hill</td>\n",
       "      <td>81</td>\n",
       "      <td>420032612001</td>\n",
       "    </tr>\n",
       "    <tr>\n",
       "      <th>2</th>\n",
       "      <td>Northview Heights</td>\n",
       "      <td>58</td>\n",
       "      <td>420032609001</td>\n",
       "    </tr>\n",
       "    <tr>\n",
       "      <th>3</th>\n",
       "      <td>Spring Hill-City View</td>\n",
       "      <td>75</td>\n",
       "      <td>420032620001</td>\n",
       "    </tr>\n",
       "    <tr>\n",
       "      <th>4</th>\n",
       "      <td>Perry South</td>\n",
       "      <td>62</td>\n",
       "      <td>420032615001</td>\n",
       "    </tr>\n",
       "    <tr>\n",
       "      <th>5</th>\n",
       "      <td>Fineview</td>\n",
       "      <td>33</td>\n",
       "      <td>420032509002</td>\n",
       "    </tr>\n",
       "    <tr>\n",
       "      <th>6</th>\n",
       "      <td>Central Northside</td>\n",
       "      <td>19</td>\n",
       "      <td>420032503001</td>\n",
       "    </tr>\n",
       "    <tr>\n",
       "      <th>7</th>\n",
       "      <td>Spring Garden</td>\n",
       "      <td>74</td>\n",
       "      <td>420032412002</td>\n",
       "    </tr>\n",
       "    <tr>\n",
       "      <th>8</th>\n",
       "      <td>Troy Hill</td>\n",
       "      <td>84</td>\n",
       "      <td>420032406002</td>\n",
       "    </tr>\n",
       "    <tr>\n",
       "      <th>9</th>\n",
       "      <td>East Allegheny</td>\n",
       "      <td>26</td>\n",
       "      <td>420035632003</td>\n",
       "    </tr>\n",
       "  </tbody>\n",
       "</table>\n",
       "</div>"
      ],
      "text/plain": [
       "                    hood  hood_no       geoid10\n",
       "0                Chateau       22  420039806001\n",
       "1            Summer Hill       81  420032612001\n",
       "2      Northview Heights       58  420032609001\n",
       "3  Spring Hill-City View       75  420032620001\n",
       "4            Perry South       62  420032615001\n",
       "5               Fineview       33  420032509002\n",
       "6      Central Northside       19  420032503001\n",
       "7          Spring Garden       74  420032412002\n",
       "8              Troy Hill       84  420032406002\n",
       "9         East Allegheny       26  420035632003"
      ]
     },
     "execution_count": 6,
     "metadata": {},
     "output_type": "execute_result"
    }
   ],
   "source": [
    "pgh_neiborhood=pd.read_csv(\"neighborhoods.csv\")\n",
    "pgh_neiborhood.head(10)\n",
    "pgh_neiborhood[['hood', 'hood_no', 'geoid10']].head(10)"
   ]
  },
  {
   "cell_type": "markdown",
   "metadata": {},
   "source": [
    "I first opened the file containing all neighboorhoods in Pittsburgh and removed all irrelevant columns to the final goal. This left the neighborhood name, number, and a designated geoid number. "
   ]
  },
  {
   "cell_type": "code",
   "execution_count": 7,
   "metadata": {},
   "outputs": [
    {
     "data": {
      "text/html": [
       "<div>\n",
       "<style scoped>\n",
       "    .dataframe tbody tr th:only-of-type {\n",
       "        vertical-align: middle;\n",
       "    }\n",
       "\n",
       "    .dataframe tbody tr th {\n",
       "        vertical-align: top;\n",
       "    }\n",
       "\n",
       "    .dataframe thead th {\n",
       "        text-align: right;\n",
       "    }\n",
       "</style>\n",
       "<table border=\"1\" class=\"dataframe\">\n",
       "  <thead>\n",
       "    <tr style=\"text-align: right;\">\n",
       "      <th></th>\n",
       "      <th>GEOID</th>\n",
       "      <th>Ratio</th>\n",
       "    </tr>\n",
       "  </thead>\n",
       "  <tbody>\n",
       "    <tr>\n",
       "      <th>0</th>\n",
       "      <td>420030103001</td>\n",
       "      <td>0.441776</td>\n",
       "    </tr>\n",
       "    <tr>\n",
       "      <th>1</th>\n",
       "      <td>420030103002</td>\n",
       "      <td>1.551697</td>\n",
       "    </tr>\n",
       "    <tr>\n",
       "      <th>2</th>\n",
       "      <td>420030103003</td>\n",
       "      <td>1.538866</td>\n",
       "    </tr>\n",
       "    <tr>\n",
       "      <th>3</th>\n",
       "      <td>420030103004</td>\n",
       "      <td>1.249711</td>\n",
       "    </tr>\n",
       "    <tr>\n",
       "      <th>4</th>\n",
       "      <td>420030201001</td>\n",
       "      <td>1.799394</td>\n",
       "    </tr>\n",
       "    <tr>\n",
       "      <th>5</th>\n",
       "      <td>420030201002</td>\n",
       "      <td>1.743155</td>\n",
       "    </tr>\n",
       "    <tr>\n",
       "      <th>6</th>\n",
       "      <td>420030201003</td>\n",
       "      <td>2.303707</td>\n",
       "    </tr>\n",
       "    <tr>\n",
       "      <th>7</th>\n",
       "      <td>420030201004</td>\n",
       "      <td>1.640231</td>\n",
       "    </tr>\n",
       "    <tr>\n",
       "      <th>8</th>\n",
       "      <td>420030201005</td>\n",
       "      <td>1.354883</td>\n",
       "    </tr>\n",
       "    <tr>\n",
       "      <th>9</th>\n",
       "      <td>420030201006</td>\n",
       "      <td>1.429927</td>\n",
       "    </tr>\n",
       "  </tbody>\n",
       "</table>\n",
       "</div>"
      ],
      "text/plain": [
       "          GEOID     Ratio\n",
       "0  420030103001  0.441776\n",
       "1  420030103002  1.551697\n",
       "2  420030103003  1.538866\n",
       "3  420030103004  1.249711\n",
       "4  420030201001  1.799394\n",
       "5  420030201002  1.743155\n",
       "6  420030201003  2.303707\n",
       "7  420030201004  1.640231\n",
       "8  420030201005  1.354883\n",
       "9  420030201006  1.429927"
      ]
     },
     "execution_count": 7,
     "metadata": {},
     "output_type": "execute_result"
    }
   ],
   "source": [
    "pgh_walkratio=pd.read_csv(\"SidewalkStreetRatio.csv\")\n",
    "pgh_walkratio[['GEOID', 'Ratio']].head(10)"
   ]
  },
  {
   "cell_type": "markdown",
   "metadata": {},
   "source": [
    "After that, I looked into the data from studies containing the ratios of sidewalks to streets in neighborhoods. This data does not contain the names of each neighboorhood; instead, it contains the geoid of each neighboorhood and its corresponding ratio of sidewalks to streets. A higher ratio meant that there were more sidewalks in comparison to the number of streets. "
   ]
  },
  {
   "cell_type": "code",
   "execution_count": 8,
   "metadata": {},
   "outputs": [
    {
     "name": "stdout",
     "output_type": "stream",
     "text": [
      "                        hood     Ratio\n",
      "57         Bedford Dwellings  6.644908\n",
      "44       Squirrel Hill North  3.615286\n",
      "13          Allegheny Center  3.227465\n",
      "22  Lincoln-Lemington-Belmar  3.092941\n",
      "45           Terrace Village  3.017543\n",
      "2          Northview Heights  2.712593\n",
      "33            Homewood North  2.512087\n",
      "26                  Garfield  2.322960\n",
      "32        Point Breeze North  2.319320\n",
      "24                Bloomfield  2.265926\n",
      "85                 Overbrook  2.232174\n",
      "35              East Liberty  2.116163\n",
      "60               Beltzhoover  2.021953\n",
      "27               Morningside  2.016948\n",
      "81                  Sheraden  1.952216\n",
      "29                Friendship  1.816415\n",
      "38              West Oakland  1.773651\n",
      "53              Point Breeze  1.766703\n",
      "7              Spring Garden  1.738268\n",
      "71         Arlington Heights  1.683838\n"
     ]
    }
   ],
   "source": [
    "pgh_neiborhood=pd.read_csv(\"neighborhoods.csv\")\n",
    "#pgh_neiborhood.head(10)\n",
    "#pgh_neiborhood[['hood', 'hood_no', 'geoid10']].head(10)\n",
    "#print (pgh_neiborhood['geoid10'].dtype)\n",
    "\n",
    "pgh_walkratio=pd.read_csv(\"SidewalkStreetRatio.csv\")\n",
    "#pgh_walkratio[['GEOID', 'Ratio']].head(10)\n",
    "#print (pgh_walkratio['GEOID'].dtype) # prints int64 --> cannot map with object type\n",
    "pgh_walkratio['GEOID'] = pgh_walkratio['GEOID'].astype(str) #GEOID is int type --> convert to string to map with object type\n",
    "\n",
    "#pgh_neiborhood['Ratio'] = pgh_neiborhood['geoid10'].map(pgh_walkratio.set_index('GEOID')['Ratio'])\n",
    "ratiodict = pgh_walkratio.set_index('GEOID')['Ratio'].to_dict()\n",
    "#print(ratiodict)\n",
    "pgh_neiborhood['Ratio'] = pgh_neiborhood.geoid10.map(ratiodict)\n",
    "ratioByHood=pgh_neiborhood[['hood','Ratio']].sort_values(by='Ratio', ascending=False)\n",
    "print(ratioByHood.head(20))"
   ]
  },
  {
   "cell_type": "markdown",
   "metadata": {},
   "source": [
    "Because we only had the geoid from the previous dataset and we were looking for the actual neighborhood names to compare, I matched the geoid from the first dataset to the ones from the second data set to link the neighborhood names from the first dataset to the ratios from the second. "
   ]
  },
  {
   "cell_type": "code",
   "execution_count": 10,
   "metadata": {},
   "outputs": [
    {
     "data": {
      "text/plain": [
       "<matplotlib.axes._subplots.AxesSubplot at 0x7fb687f9dbb0>"
      ]
     },
     "execution_count": 10,
     "metadata": {},
     "output_type": "execute_result"
    },
    {
     "data": {
      "image/png": "[encoded data removed]",
      "text/plain": [
       "<Figure size 432x288 with 1 Axes>"
      ]
     },
     "metadata": {
      "needs_background": "light"
     },
     "output_type": "display_data"
    }
   ],
   "source": [
    "ratioByHood[['hood', 'Ratio']].head().plot.bar()"
   ]
  },
  {
   "cell_type": "code",
   "execution_count": null,
   "metadata": {},
   "outputs": [],
   "source": []
  }
 ],
 "metadata": {
  "kernelspec": {
   "display_name": "Python 3",
   "language": "python",
   "name": "python3"
  },
  "language_info": {
   "codemirror_mode": {
    "name": "ipython",
    "version": 3
   },
   "file_extension": ".py",
   "mimetype": "text/x-python",
   "name": "python",
   "nbconvert_exporter": "python",
   "pygments_lexer": "ipython3",
   "version": "3.8.3"
  }
 },
 "nbformat": 4,
 "nbformat_minor": 4
}
